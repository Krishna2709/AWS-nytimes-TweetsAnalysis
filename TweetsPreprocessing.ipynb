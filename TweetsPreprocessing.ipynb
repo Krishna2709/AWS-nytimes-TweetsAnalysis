{
 "cells": [
  {
   "cell_type": "code",
   "execution_count": 1,
   "id": "3ff4f1fe",
   "metadata": {},
   "outputs": [],
   "source": [
    "# Import required libraries\n",
    "import boto3\n",
    "import sagemaker\n",
    "\n",
    "import re\n",
    "import pandas as pd\n",
    "\n",
    "from sagemaker import get_execution_role"
   ]
  },
  {
   "cell_type": "code",
   "execution_count": 2,
   "id": "5b5cea88",
   "metadata": {},
   "outputs": [],
   "source": [
    "# Connection\n",
    "def access_data():\n",
    "    region = boto3.Session().region_name\n",
    "    smclient = boto3.Session().client('sagemaker')\n",
    "    s3client = boto3.client('s3')\n",
    "\n",
    "    role = get_execution_role()\n",
    "    sess = sagemaker.Session()\n",
    "\n",
    "    bucket_name = \"twitter-analytics-database\"\n",
    "\n",
    "    response = s3client.list_objects(Bucket=bucket_name)['Contents']\n",
    "    files = []\n",
    "    for file in response:\n",
    "        print(f\"file_name: {file['Key']}, size: {file['Size']}\")\n",
    "        files.append(\"s3://twitter-analytics-database/\"+file['Key'])\n",
    "    return files"
   ]
  },
  {
   "cell_type": "code",
   "execution_count": 3,
   "id": "bc06ed28",
   "metadata": {},
   "outputs": [],
   "source": [
    "# Tweets data\n",
    "def get_tweets(data_files):\n",
    "    df_ = pd.concat(map(pd.read_csv, [x for x in data_files]), ignore_index=True) # Combining the CSV files\n",
    "    df_drop = df_.drop_duplicates(subset='id', keep='first') # Droping duplicates\n",
    "    tweets_df = df_drop['tweet'] # Tweets dataframe\n",
    "    return tweets_df"
   ]
  },
  {
   "cell_type": "code",
   "execution_count": 4,
   "id": "6b274c11",
   "metadata": {},
   "outputs": [],
   "source": [
    "# Tweet Preprocessing\n",
    "def preprocess_tweet(tweet):\n",
    "    tweet = re.sub(r'(\\s)?@\\w+', r'\\1', tweet) # Removing mentions: @name\n",
    "    tweet = re.sub(r'https?://\\S+', '', tweet) # Removing URLs\n",
    "    return tweet"
   ]
  },
  {
   "cell_type": "code",
   "execution_count": 5,
   "id": "216d362d",
   "metadata": {},
   "outputs": [
    {
     "name": "stdout",
     "output_type": "stream",
     "text": [
      "file_name: nytimes.csv, size: 19577\n",
      "file_name: nytimes2022-08-26 20:44:19.381548.csv, size: 19760\n",
      "file_name: nytimes2022-08-26 20:45:44.462263.csv, size: 20833\n",
      "file_name: nytimes2022-08-26 20:48:37.282261.csv, size: 19780\n",
      "file_name: nytimes2022-08-26 20:48:41.401947.csv, size: 19739\n",
      "file_name: nytimes2022-08-26 21:14:19.243230.csv, size: 20413\n"
     ]
    }
   ],
   "source": [
    "data_files = access_data()\n",
    "tweets_text = get_tweets(data_files)\n",
    "tweets_text = tweets_text.apply(preprocess_tweet)"
   ]
  },
  {
   "cell_type": "code",
   "execution_count": 6,
   "id": "aa4e23f4",
   "metadata": {},
   "outputs": [
    {
     "data": {
      "text/plain": [
       "0       Many, if not all, of whom have gone through a...\n",
       "1                                                       \n",
       "2         A sort of mutiny The Constelicit ion Incident \n",
       "3      Now lets talk about how many people are there ...\n",
       "4                                               RT :    \n",
       "                             ...                        \n",
       "595     It’s time he’s arrested and to hell with the ...\n",
       "596    RT : Lazy, smug, elitist and totally wrong: NY...\n",
       "597    RT : \"The scandal has echoes of the dark old d...\n",
       "598               The middle class will not pay for this\n",
       "599    RT : In the affidavit for the search of Donald...\n",
       "Name: tweet, Length: 463, dtype: object"
      ]
     },
     "execution_count": 6,
     "metadata": {},
     "output_type": "execute_result"
    }
   ],
   "source": [
    "tweets_text"
   ]
  }
 ],
 "metadata": {
  "kernelspec": {
   "display_name": "conda_python3",
   "language": "python",
   "name": "conda_python3"
  },
  "language_info": {
   "codemirror_mode": {
    "name": "ipython",
    "version": 3
   },
   "file_extension": ".py",
   "mimetype": "text/x-python",
   "name": "python",
   "nbconvert_exporter": "python",
   "pygments_lexer": "ipython3",
   "version": "3.8.12"
  }
 },
 "nbformat": 4,
 "nbformat_minor": 5
}
