{
 "cells": [
  {
   "cell_type": "markdown",
   "id": "1b5bfce8",
   "metadata": {},
   "source": [
    "### 1. Installing \"tweepy\" library\n"
   ]
  },
  {
   "cell_type": "code",
   "execution_count": null,
   "id": "67ca71ad",
   "metadata": {},
   "outputs": [],
   "source": [
    "from IPython.display import clear_output\n",
    "!pip install tweepy\n",
    "clear_output(wait=False)"
   ]
  },
  {
   "cell_type": "markdown",
   "id": "235056ac",
   "metadata": {},
   "source": [
    "### 2. Importing required libraries"
   ]
  },
  {
   "cell_type": "code",
   "execution_count": null,
   "id": "af9b0bcd",
   "metadata": {},
   "outputs": [],
   "source": [
    "import boto3\n",
    "import os\n",
    "import pandas as pd\n",
    "import tweepy"
   ]
  },
  {
   "cell_type": "markdown",
   "id": "dc274ca2",
   "metadata": {},
   "source": [
    "### 3. Cofiguration\n",
    " - Bearer Token generated from the Twitter developer Project/App\n",
    " - S3 Bucket name"
   ]
  },
  {
   "cell_type": "code",
   "execution_count": null,
   "id": "b5dba0df",
   "metadata": {},
   "outputs": [],
   "source": [
    "token = \"*\"\n",
    "bucket = \"twitter-analytics-database\""
   ]
  },
  {
   "cell_type": "markdown",
   "id": "c2e78246",
   "metadata": {},
   "source": [
    "### 4. Extracting tweets\n",
    "1. Authenticating the client using bearer token\n",
    "2. Communicating with @nytimes and extracting 100 recent tweets\n",
    "    - Extracting tweet_id, time of tweet created and the tweet\n",
    "3. Extracting the tweets from the resposne\n",
    "4. Converting extracted data into a pandas dataframe\n",
    "5. Saving the dataframe as a csv file in the S3 bucket"
   ]
  },
  {
   "cell_type": "code",
   "execution_count": null,
   "id": "e2f78d5c",
   "metadata": {},
   "outputs": [],
   "source": [
    "# Helper function to save the data into a csv file\n",
    "def save_to_csv(bucket, data):\n",
    "    data = pd.DataFrame(data, columns=['id', 'created_at', 'tweet', 'tweet_length'])\n",
    "    data.to_csv('tweets.csv', index=False, header=False)\n",
    "    boto3.Session().resource('s3').Bucket(bucket).Object(os.path.join('tweets.csv')).upload_file('tweets.csv')\n",
    "    \n",
    "\n",
    "# Helper function to extract tweets from @nytimes\n",
    "def get_tweets(token, bucket):\n",
    "    \"\"\"\n",
    "    To\n",
    "        Authenticate with Bearer Token\n",
    "        Extract the tweets\n",
    "    \n",
    "    Return\n",
    "        100 recent tweets data\n",
    "    \"\"\"\n",
    "    # Authenticating\n",
    "    client = tweepy.Client(bearer_token=token)\n",
    "    \n",
    "    #  Communicating with @nytimes\n",
    "    response = client.search_recent_tweets(\"nytimes\", tweet_fields=[\"id\", \"created_at\", \"text\"], max_results=100)\n",
    "    \n",
    "    # Extracting tweets from the response\n",
    "    tweets = response.data\n",
    "    \n",
    "    data = [(tweet.id, tweet.created_at, tweet.text, len(tweet.text)) for tweet in tweets]\n",
    "    \n",
    "    save_to_csv(bucket, data)\n",
    "    \n",
    "\n",
    "get_tweets(token, bucket)"
   ]
  }
 ],
 "metadata": {
  "kernelspec": {
   "display_name": "conda_python3",
   "language": "python",
   "name": "conda_python3"
  },
  "language_info": {
   "codemirror_mode": {
    "name": "ipython",
    "version": 3
   },
   "file_extension": ".py",
   "mimetype": "text/x-python",
   "name": "python",
   "nbconvert_exporter": "python",
   "pygments_lexer": "ipython3",
   "version": "3.8.12"
  }
 },
 "nbformat": 4,
 "nbformat_minor": 5
}
